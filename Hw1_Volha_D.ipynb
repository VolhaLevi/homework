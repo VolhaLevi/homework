{
  "nbformat": 4,
  "nbformat_minor": 0,
  "metadata": {
    "colab": {
      "provenance": [],
      "include_colab_link": true
    },
    "kernelspec": {
      "name": "python3",
      "display_name": "Python 3"
    },
    "language_info": {
      "name": "python"
    }
  },
  "cells": [
    {
      "cell_type": "markdown",
      "metadata": {
        "id": "view-in-github",
        "colab_type": "text"
      },
      "source": [
        "<a href=\"https://colab.research.google.com/github/VolhaLevi/homework/blob/main/Hw1_Volha_D.ipynb\" target=\"_parent\"><img src=\"https://colab.research.google.com/assets/colab-badge.svg\" alt=\"Open In Colab\"/></a>"
      ]
    },
    {
      "cell_type": "markdown",
      "source": [
        "#Домашняя работа 1\n",
        "Время на выполнение: **с 15 ноября по 30 ноября 2023**\n",
        "\n",
        "Сдача после 30.11.2023 возможна с понижением баллов"
      ],
      "metadata": {
        "id": "cJrbXTJYj1Vx"
      }
    },
    {
      "cell_type": "markdown",
      "source": [
        "## Задача 1\n",
        "### Условный оператор if-elif-else\n",
        "\n",
        "В Вышке научились измерять душевную боль... (Это правда: [Источник](https://iq.hse.ru/news/760718471.html))\n",
        "\n",
        "Давайте тоже предложим свою шкалу!"
      ],
      "metadata": {
        "id": "_iLN1A20j8Dg"
      }
    },
    {
      "cell_type": "markdown",
      "source": [
        "В ячейке ниже - код \"определителя душевной боли\" от 1 до 10. Давайте его улучшим:\n",
        "\n",
        "* добавьте условие для случаев, если пользователь вводит число больше 10\n",
        "\n",
        "* добавьте еще два условия, чтобы разделение на категории душевной боли было еще точнее\n",
        "* добавьте к вещественным числам примеры, чтобы пользователю было легче оценить свою душевную боль (например, шкала от утреннего кофе, пролитого на рубашку, до студента на сессии...)\n",
        "\n",
        "Подсказка: будет легче, если нарисовать себе схему условий на бумаге\n",
        "\n"
      ],
      "metadata": {
        "id": "-3ReUhPtvDXk"
      }
    },
    {
      "cell_type": "code",
      "source": [
        "# определитель душевной боли\n",
        "\n",
        "a = float(input('Оцените силу вашей душевной боли по шкале от 0 до 10: '))\n",
        "if a < 0.7:\n",
        "    print('Кажется, вы испытываете легкое огорчение. Как человек в короткой поездке в метро, забывший дома наушники')\n",
        "elif 0.7 <= a <= 4.2:\n",
        "    print('Вы встревожены - почти как человек, которому придется звонить по телефону, и это в эпоху мессенджеров! То самое чувство, когда начинаете нервно репетировать в голове диалог...')\n",
        "\n",
        "\n",
        "# продолжите программу дальше\n",
        "# примеры и значения выше можно заменить на ваши\n",
        "\n",
        "if a < 4.3:\n",
        "    print('Вы не сходили сегодня в кино, Вам капельку грустно')\n",
        "elif 4.3 <= a <= 6:\n",
        "    print('Вам слегка грустно, от того, что Вам не с кем  идти куда-либо')\n",
        "elif 6.1 <= a <=7:\n",
        "    print('Вам очень грустно от того, что не получается программировать на python')\n",
        "elif 7.1 <= a <=10:\n",
        "    print('У Вас выраженные симптомы депрессии, Вы чувствуете себя несчастным человеком')\n",
        "\n",
        "\n",
        "\n",
        "\n",
        "\n",
        "\n"
      ],
      "metadata": {
        "id": "bK-muzTkuSrp",
        "colab": {
          "base_uri": "https://localhost:8080/"
        },
        "outputId": "a25b32fc-a5b0-4166-bfc5-9bada4008c49"
      },
      "execution_count": null,
      "outputs": [
        {
          "output_type": "stream",
          "name": "stdout",
          "text": [
            "Оцените силу вашей душевной боли по шкале от 0 до 10: 7.2\n",
            "У Вас выраженные симптомы депрессии, Вы чувствуете себя несчастным человеком\n"
          ]
        }
      ]
    },
    {
      "cell_type": "markdown",
      "source": [
        "## Задача 2\n",
        "### Список, цикл for\n",
        "\n",
        "Робот, выбирающий пользователю коктейль:\n",
        "\n",
        "Представьте, что Вы разрабатываете (фрагмент) электронного помощника для ресторана.\n",
        "\n",
        "У Вас есть список коктейлей, где каждый коктейль представлен в виде списка ингридиентов (у нас получается список списков). Программа рандомным образом должна выбрать один из коктейлей (т.е. один из списков в общем списке) и вывести на экран сообщение: \"Сегодня в вашем коктейле будет: \" и сам список ингридиентов\n",
        "\n",
        "Но есть одно условие: в некоторые из списков по ошибке попал \"лосось\". Строку \"лосось\" нужно убрать (здесь вам поможет один метод работы со списками) ,но так как лосось есть не везде, нужно предварительно проверить его наличие в списке."
      ],
      "metadata": {
        "id": "9sdH0TO1_m5G"
      }
    },
    {
      "cell_type": "code",
      "source": [
        "from os import remove\n",
        "import random\n",
        "\n",
        "cocktails = [\n",
        "    [\"мартини\",\"грейпфрутовый сок\",\"жасмин\",\"тоник\",\"лосось\"],\n",
        "    [\"клубника\",\"какао\",\"мята\",\"марсала\"],\n",
        "    [\"водка\",\"томатный сок\",\"лимонный сок\",\"вустерширский соус\",\"черный перец\",\"сельдерей\",\"лосось\"],\n",
        "    [\"джин\",\"вермут\",\"ликер мараскино\",\"апельсины\",\"коктейльная вишня\",\"лосось\"],\n",
        "    [\"ром\",\"авокадо\",\"сахарный сироп\",\"сливки\",\"лимонный сок\",\"лед\"],\n",
        "    [\"красный вермут\",\"тоник\",\"апельсины\",\"лосось\"],\n",
        "    [\"только чай\"]\n",
        "        ]\n",
        "\n",
        "# my code here:\n",
        "\n",
        "for cocktail in cocktails:\n",
        "  if \"лосось\" in cocktail:\n",
        "    cocktail.remove (\"лосось\")\n",
        "\n",
        "print (\"Сегодня в вашем коктейле будет:\", *random.choice(cocktails))\n",
        "\n",
        "\n",
        "\n",
        "\n",
        "\n",
        "\n",
        "\n",
        "\n",
        "\n",
        "\n",
        "\n",
        "\n"
      ],
      "metadata": {
        "id": "wLCxa1d2uUYs",
        "colab": {
          "base_uri": "https://localhost:8080/"
        },
        "outputId": "32ca7abf-088d-484b-8db6-9c9e6a447f8f"
      },
      "execution_count": null,
      "outputs": [
        {
          "output_type": "stream",
          "name": "stdout",
          "text": [
            "Сегодня в вашем коктейле будет: красный вермут тоник апельсины\n"
          ]
        }
      ]
    },
    {
      "cell_type": "markdown",
      "source": [
        "## Задача 3\n",
        "### Множества и словари"
      ],
      "metadata": {
        "id": "840zUYgtxx_o"
      }
    },
    {
      "cell_type": "markdown",
      "source": [
        "Алиса коллекционирует открыткм, которые она получила из разных стран от друзей. Она знает, что Мария прислала ей открытку из Лондона, Лоренцо -- из Милана, Олег - из Канберры, Ханс -- из Кальгари, Марк -- тоже из Милана, Алекс - из Кракова, и совсем недавно пришла открытка от Юлии из Мурманска.\n",
        "\n",
        "Сейчас ее архив выглядит вот так:\n"
      ],
      "metadata": {
        "id": "p3pqApP1yFoY"
      }
    },
    {
      "cell_type": "code",
      "source": [
        "postcards = {\n",
        "    \"Maria\": \"London\",\n",
        "    \"Lorenzo\": \"Milan\",\n",
        "    \"Oleg\": \"Canberra\",\n",
        "    \"Hans\": \"Calgary\",\n",
        "    \"Mark\": \"Milan\",\n",
        "    \"Alex\": \"Krakow\",\n",
        "    \"Julia\": \"Murmansk\"\n",
        "}"
      ],
      "metadata": {
        "id": "Yqu617qHuYoq"
      },
      "execution_count": null,
      "outputs": []
    },
    {
      "cell_type": "markdown",
      "source": [
        "Однажды Алиса показала Вам свою бумажную коллекцию, и Вы заметили неточности:\n",
        "\n",
        "* в архиве не хватает двух открыток: от Петры из Парижа и от Ивана из Москвы. Добавьте их в архив Алисы.\n",
        "\n",
        "* открытка, присланная Олегом на самом деле не из Канберры, а из Сиднея. Исправьте город на верный, изменив значение по ключу в словаре.\n",
        "\n",
        "* Алиса говорит, что в ее коллекции более 10 уникальных городов. Сколько их на самом деле? Выведите названия этих городов."
      ],
      "metadata": {
        "id": "dB6o3dTayMWB"
      }
    },
    {
      "cell_type": "code",
      "source": [
        "# my code here:\n",
        "\n",
        "postcards = {\n",
        "    \"Maria\": \"London\",\n",
        "    \"Lorenzo\": \"Milan\",\n",
        "    \"Oleg\": \"Canberra\",\n",
        "    \"Hans\": \"Calgary\",\n",
        "    \"Mark\": \"Milan\",\n",
        "    \"Alex\": \"Krakow\",\n",
        "    \"Julia\": \"Murmansk\"\n",
        "}\n",
        "\n",
        "postcards[\"Ivan\"] = \"Moscow\"\n",
        "postcards[\"Petr\"] = \"Paris\"\n",
        "\n",
        "print (postcards)\n"
      ],
      "metadata": {
        "id": "IyLVQu16uWNs",
        "colab": {
          "base_uri": "https://localhost:8080/"
        },
        "outputId": "71d20387-1a80-4c64-9d21-d55b278ad059"
      },
      "execution_count": 37,
      "outputs": [
        {
          "output_type": "stream",
          "name": "stdout",
          "text": [
            "{'Maria': 'London', 'Lorenzo': 'Milan', 'Oleg': 'Canberra', 'Hans': 'Calgary', 'Mark': 'Milan', 'Alex': 'Krakow', 'Julia': 'Murmansk', 'Ivan': 'Moscow', 'Petr': 'Paris'}\n"
          ]
        }
      ]
    },
    {
      "cell_type": "code",
      "source": [
        "# my code here:\n",
        "\n",
        "postcards = {\n",
        "    \"Maria\": \"London\",\n",
        "    \"Lorenzo\": \"Milan\",\n",
        "    \"Oleg\": \"Canberra\",\n",
        "    \"Hans\": \"Calgary\",\n",
        "    \"Mark\": \"Milan\",\n",
        "    \"Alex\": \"Krakow\",\n",
        "    \"Julia\": \"Murmansk\"\n",
        "}\n",
        "\n",
        "postcards[\"Oleg\"] = \"Sydney\"\n",
        "\n",
        "print (postcards)\n"
      ],
      "metadata": {
        "colab": {
          "base_uri": "https://localhost:8080/"
        },
        "outputId": "eb6a8e8d-74c3-47f0-b597-9ac0d378d3c1",
        "id": "utY5joSGCVr-"
      },
      "execution_count": null,
      "outputs": [
        {
          "output_type": "stream",
          "name": "stdout",
          "text": [
            "{'Maria': 'London', 'Lorenzo': 'Milan', 'Oleg': 'Sydney', 'Hans': 'Calgary', 'Mark': 'Milan', 'Alex': 'Krakow', 'Julia': 'Murmansk'}\n"
          ]
        }
      ]
    },
    {
      "cell_type": "code",
      "source": [
        "# my code here:\n",
        "\n",
        "postcards = {\n",
        "    \"Maria\": \"London\",\n",
        "    \"Lorenzo\": \"Milan\",\n",
        "    \"Oleg\": \"Canberra\",\n",
        "    \"Hans\": \"Calgary\",\n",
        "    \"Mark\": \"Milan\",\n",
        "    \"Alex\": \"Krakow\",\n",
        "    \"Julia\": \"Murmansk\"\n",
        "}\n",
        "\n",
        "city_names = set(postcards.values ())\n",
        "\n",
        "print (city_names)\n"
      ],
      "metadata": {
        "colab": {
          "base_uri": "https://localhost:8080/"
        },
        "outputId": "dcf6290f-1b9f-4a56-ec38-1cdceee9bc52",
        "id": "-Dn5fNR-ESWW"
      },
      "execution_count": null,
      "outputs": [
        {
          "output_type": "stream",
          "name": "stdout",
          "text": [
            "{'Murmansk', 'Milan', 'Canberra', 'Calgary', 'London', 'Krakow'}\n"
          ]
        }
      ]
    },
    {
      "cell_type": "code",
      "source": [
        "# my code here:\n",
        "\n",
        "postcards = {\n",
        "    \"Maria\": \"London\",\n",
        "    \"Lorenzo\": \"Milan\",\n",
        "    \"Oleg\": \"Canberra\",\n",
        "    \"Hans\": \"Calgary\",\n",
        "    \"Mark\": \"Milan\",\n",
        "    \"Alex\": \"Krakow\",\n",
        "    \"Julia\": \"Murmansk\"\n",
        "}\n",
        "\n",
        "city_names = set(postcards.values ())\n",
        "city_number = len (city_names)\n",
        "\n",
        "print (city_number)\n"
      ],
      "metadata": {
        "colab": {
          "base_uri": "https://localhost:8080/"
        },
        "outputId": "bfb4fdb0-1346-4c26-a4f5-78b9226cda30",
        "id": "La-jfEb8EhZl"
      },
      "execution_count": 41,
      "outputs": [
        {
          "output_type": "stream",
          "name": "stdout",
          "text": [
            "6\n"
          ]
        }
      ]
    }
  ]
}